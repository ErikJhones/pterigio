{
 "cells": [
  {
   "cell_type": "markdown",
   "metadata": {},
   "source": [
    "# Imports"
   ]
  },
  {
   "cell_type": "code",
   "execution_count": 1,
   "metadata": {},
   "outputs": [],
   "source": [
    "# Bibliotecas para aumentar dataset #####################\n",
    "from tensorflow.keras.preprocessing.image import ImageDataGenerator\n",
    "from tensorflow.keras.preprocessing.image import img_to_array\n",
    "from tensorflow.keras.preprocessing.image import load_img\n",
    "from keras.applications.vgg16 import VGG16 #Biblioteca cnn-vgg16\n",
    "import numpy as np\n",
    "\n",
    "#####################  Bibliotecas para separar dados #####################\n",
    "import cv2 #Trabalhar com imagens\n",
    "from sklearn.model_selection import train_test_split #Separar dados de treino e teste\n",
    "from sklearn.utils import shuffle #Embaralhar dados\n",
    "import os #sistema operacional"
   ]
  },
  {
   "cell_type": "markdown",
   "metadata": {},
   "source": [
    "# Função para aumentar o dataset"
   ]
  },
  {
   "cell_type": "code",
   "execution_count": 2,
   "metadata": {},
   "outputs": [],
   "source": [
    "def dataAugmentation(path, classe):\n",
    "    image = load_img(path)\n",
    "    image = img_to_array(image)\n",
    "    image = np.expand_dims(image, axis=0)\n",
    "    # contruindo o gerador de imagem para data augmentation\n",
    "    aug = ImageDataGenerator(\n",
    "        rotation_range=30,\n",
    "        zoom_range=0.15,\n",
    "        #width_shift_range=0.2,\n",
    "        #height_shift_range=0.2,\n",
    "        shear_range=0.15,\n",
    "        horizontal_flip=True,\n",
    "        vertical_flip=True,\n",
    "        fill_mode=\"nearest\")\n",
    "    \n",
    "    total = 0\n",
    "    saveDir = ''\n",
    "    #local de destino das imagens\n",
    "    if(classe == 0):\n",
    "        saveDir = os.getcwd()+'/Aug/NewG0/'\n",
    "    elif(classe == 1):\n",
    "        saveDir = os.getcwd()+'/Aug/NewG1/'\n",
    "    elif(classe == 2):\n",
    "        saveDir = os.getcwd()+'/Aug/NewG2/'\n",
    "    elif(classe == 3):\n",
    "        saveDir = os.getcwd()+'/Aug/NewG3/'\n",
    "    elif(classe == 4):\n",
    "        saveDir = os.getcwd()+'/Aug/NewG4/'\n",
    "        \n",
    "    imageGen = aug.flow(image, batch_size=1, save_to_dir=saveDir,\n",
    "            save_prefix=\"image\", save_format=\"jpg\")\n",
    "    # loop que faz o controle do número de imagens a serem geradas (no caso 100)\n",
    "    for image in imageGen:\n",
    "        if total == 25:\n",
    "            break\n",
    "        total += 1"
   ]
  },
  {
   "cell_type": "markdown",
   "metadata": {},
   "source": [
    "# Data augmentation"
   ]
  },
  {
   "cell_type": "code",
   "execution_count": 3,
   "metadata": {},
   "outputs": [],
   "source": [
    "path = os.getcwd()+'/GrausPt/'\n",
    "\n",
    "for caminho, d, file in os.walk(path):\n",
    "    for filename in file:\n",
    "        img = cv2.imread(os.path.join(caminho,filename))\n",
    "\n",
    "        if caminho == os.getcwd()+'/GrausPt/g0':\n",
    "            cv2.imwrite(os.getcwd()+'/Aug/NewG0/'+filename, img)\n",
    "            dataAugmentation(os.path.join(caminho,filename), 0)\n",
    "       \n",
    "        elif caminho == os.getcwd()+'/GrausPt/g1':\n",
    "            cv2.imwrite(os.getcwd()+'/Aug/NewG1/'+filename, img)\n",
    "            dataAugmentation(os.path.join(caminho,filename), 1)\n",
    "          \n",
    "        elif caminho == os.getcwd()+'/GrausPt/g2':\n",
    "            cv2.imwrite(os.getcwd()+'/Aug/NewG2/'+filename, img)\n",
    "            dataAugmentation(os.path.join(caminho,filename), 2)\n",
    "            \n",
    "        elif caminho == os.getcwd()+'/GrausPt/g3':\n",
    "            cv2.imwrite(os.getcwd()+'/Aug/NewG3/'+filename, img)\n",
    "            dataAugmentation(os.path.join(caminho,filename), 3)\n",
    "        \n",
    "        elif caminho == os.getcwd()+'/GrausPt/g4':\n",
    "            cv2.imwrite(os.getcwd()+'/Aug/NewG4/'+filename, img)\n",
    "            dataAugmentation(os.path.join(caminho,filename), 4)"
   ]
  },
  {
   "cell_type": "markdown",
   "metadata": {},
   "source": [
    "# Carregar imagens"
   ]
  },
  {
   "cell_type": "code",
   "execution_count": null,
   "metadata": {},
   "outputs": [],
   "source": [
    "path = os.getcwd()+'/Aug/'\n",
    "data_set = []\n",
    "saidas = []\n",
    "        \n",
    "for caminho, d, file in os.walk(path):\n",
    "    for filename in file:\n",
    "        \n",
    "        img = cv2.imread(os.path.join(caminho,filename))\n",
    "        \n",
    "        #gray = cv2.cvtColor(img, cv2.COLOR_BGR2GRAY) #Deixa a imagem com tons de cinza\n",
    "        #equalized_image = cv2.equalizeHist(gray) #Aumentar o contraste da imagem\n",
    "        img = np.array(cv2.resize(img, (128,128), interpolation = cv2.INTER_AREA))\n",
    "        data_set.append(img)\n",
    "        \n",
    "        if caminho == path+'NewG0':\n",
    "            saidas.append(0)\n",
    "        elif caminho == path+'NewG1':\n",
    "            saidas.append(1)\n",
    "        elif caminho == path+'NewG2':\n",
    "            saidas.append(2)\n",
    "        elif caminho == path+'NewG3':\n",
    "            saidas.append(3)\n",
    "        elif caminho == path+'NewG4':\n",
    "            saidas.append(4)"
   ]
  },
  {
   "cell_type": "code",
   "execution_count": null,
   "metadata": {
    "scrolled": false
   },
   "outputs": [],
   "source": [
    "len(saidas), len(data_set)"
   ]
  },
  {
   "cell_type": "code",
   "execution_count": null,
   "metadata": {},
   "outputs": [],
   "source": [
    "X, Y = shuffle(data_set, saidas) #embaralha os dados\n",
    "\n",
    "train_X = []\n",
    "train_Y = []\n",
    "\n",
    "test_X = []\n",
    "test_Y = []\n",
    "\n",
    "train_X, test_X, train_Y, test_Y = train_test_split(X, Y, train_size=0.8, random_state=42) #separa os dados em treino e teste com porcentagen de 80% para treino\n",
    "\n",
    "#Deixando no mesmo tipo do array do data_set\n",
    "train_Y = np.array(train_Y).astype('uint8')\n",
    "test_Y = np.array(test_Y).astype('uint8')\n",
    "\n",
    "train_X = np.array(train_X)\n",
    "test_X = np.array(test_X)"
   ]
  },
  {
   "cell_type": "code",
   "execution_count": null,
   "metadata": {
    "scrolled": false
   },
   "outputs": [],
   "source": [
    "from keras.utils import to_categorical\n",
    "import matplotlib.pyplot as plt\n",
    "%matplotlib inline\n",
    "\n",
    "print('Tamanho e quantidade da base de dados de treino:', train_X.shape, train_Y.shape)\n",
    "\n",
    "print('Tamanho e quantidade da base de dados de teste:', test_X.shape, test_Y.shape)"
   ]
  },
  {
   "cell_type": "code",
   "execution_count": null,
   "metadata": {},
   "outputs": [],
   "source": [
    "# Encontra o numero de classes\n",
    "classes = np.unique(train_Y) #Pega o valores sem repetição\n",
    "nClasses = len(classes)\n",
    "print('Numero total de classes:', nClasses)\n",
    "print('Saida das classes:', classes)"
   ]
  },
  {
   "cell_type": "code",
   "execution_count": null,
   "metadata": {},
   "outputs": [],
   "source": [
    "import cv2\n",
    "plt.figure(figsize=[5,5])\n",
    "\n",
    "#Mostra a primeira imagem dos dados de treino\n",
    "\n",
    "plt.subplot(121)\n",
    "img = cv2.cvtColor(train_X[0,:,:],cv2.COLOR_BGR2RGB)\n",
    "plt.imshow(img)\n",
    "plt.title(\"Classe : {}\".format(train_Y[0]))\n",
    "\n",
    "#Mostra a primeira imagem dos dados de teste\n",
    "plt.subplot(122)\n",
    "img = cv2.cvtColor(train_X[5,:,:],cv2.COLOR_BGR2RGB)\n",
    "plt.imshow(img)\n",
    "plt.title(\"Classe : {}\".format(test_Y[5]))"
   ]
  },
  {
   "cell_type": "code",
   "execution_count": null,
   "metadata": {},
   "outputs": [],
   "source": [
    "# Deixar as imagens na mesma dimensão\n",
    "train_X = train_X.reshape(-1, 128, 128, 3)\n",
    "test_X = test_X.reshape(-1, 128, 128, 3)\n",
    "train_X.shape, test_X.shape"
   ]
  },
  {
   "cell_type": "code",
   "execution_count": null,
   "metadata": {},
   "outputs": [],
   "source": [
    "#Normalizando a imagens deixando os pixels entre 0 e 1\n",
    "train_X = train_X.astype('float32')\n",
    "test_X = test_X.astype('float32')\n",
    "train_X = train_X / 255.\n",
    "test_X = test_X / 255."
   ]
  },
  {
   "cell_type": "code",
   "execution_count": null,
   "metadata": {},
   "outputs": [],
   "source": [
    "# Mudança de codificação de código de classe para se padronizar com o Keras.\n",
    "train_Y_one_hot = to_categorical(train_Y)\n",
    "test_Y_one_hot = to_categorical(test_Y)\n",
    "\n",
    "# Testando a padronização de rotulo\n",
    "print('Rotulo Original:', train_Y[0])\n",
    "print('Depois da conversão para o one-hot:', train_Y_one_hot[0])"
   ]
  },
  {
   "cell_type": "code",
   "execution_count": null,
   "metadata": {},
   "outputs": [],
   "source": [
    "#Validação do modelo\n",
    "from sklearn.model_selection import train_test_split\n",
    "train_X,valid_X,train_label,valid_label = train_test_split(train_X, train_Y_one_hot, test_size=0.2, random_state=13)"
   ]
  },
  {
   "cell_type": "code",
   "execution_count": null,
   "metadata": {},
   "outputs": [],
   "source": [
    "train_X[0].shape, valid_X.shape, train_label.shape, valid_label.shape"
   ]
  },
  {
   "cell_type": "code",
   "execution_count": null,
   "metadata": {},
   "outputs": [],
   "source": [
    "#A rede\n",
    "import keras\n",
    "from keras.models import Sequential,Input,Model\n",
    "from keras.layers import Dense, Dropout, Flatten\n",
    "from keras.layers import Conv2D, MaxPooling2D\n",
    "from keras.layers.normalization import BatchNormalization\n",
    "from keras.layers.advanced_activations import LeakyReLU\n",
    "from keras.optimizers import SGD"
   ]
  },
  {
   "cell_type": "code",
   "execution_count": null,
   "metadata": {},
   "outputs": [],
   "source": [
    "batch_size = 64 #Quantidade de neuronios que seram utilizados.\n",
    "epochs = 10 #Interações\n",
    "num_classes = 5"
   ]
  },
  {
   "cell_type": "markdown",
   "metadata": {},
   "source": [
    "# TRANSFER LEARNING"
   ]
  },
  {
   "cell_type": "code",
   "execution_count": null,
   "metadata": {},
   "outputs": [],
   "source": [
    "vgg = keras.applications.VGG16(input_shape=(128,128,3), include_top = False, weights= 'imagenet')"
   ]
  },
  {
   "cell_type": "code",
   "execution_count": null,
   "metadata": {},
   "outputs": [],
   "source": [
    "x = vgg.output\n",
    "x = Flatten()(x)\n",
    "x = Dense(3078,activation='relu')(x) \n",
    "x = Dropout(0.5)(x)\n",
    "x = Dense(256,activation='relu')(x) \n",
    "x = Dropout(0.2)(x)\n",
    "out = Dense(5,activation='softmax')(x)\n",
    "tf_model=Model(inputs=vgg.input,outputs=out)\n",
    "for layer in tf_model.layers[:20]:\n",
    "    layer.trainable=False"
   ]
  },
  {
   "cell_type": "code",
   "execution_count": null,
   "metadata": {},
   "outputs": [],
   "source": [
    "tf_model.compile(optimizer=keras.optimizers.Adam(), loss = keras.losses.categorical_crossentropy, metrics=['accuracy'])"
   ]
  },
  {
   "cell_type": "code",
   "execution_count": null,
   "metadata": {
    "scrolled": true
   },
   "outputs": [],
   "source": [
    "train_label.shape"
   ]
  },
  {
   "cell_type": "code",
   "execution_count": null,
   "metadata": {},
   "outputs": [],
   "source": [
    "history = tf_model.fit(train_X, train_label, batch_size = 64, epochs = 60, initial_epoch = 0, validation_data = (valid_X, valid_label))"
   ]
  },
  {
   "cell_type": "code",
   "execution_count": null,
   "metadata": {},
   "outputs": [],
   "source": [
    "#Salvando treinamento\n",
    "tf_model.save(\"fashion_model_dropout.h5py\")"
   ]
  },
  {
   "cell_type": "code",
   "execution_count": null,
   "metadata": {},
   "outputs": [],
   "source": [
    "#Validação da parte de teste\n",
    "test_eval = tf_model.evaluate(test_X, test_Y_one_hot, verbose=1)"
   ]
  },
  {
   "cell_type": "code",
   "execution_count": null,
   "metadata": {},
   "outputs": [],
   "source": [
    "#Plotando graficos referentes a treinamento e validação acurácia e loss\n",
    "accuracy = history.history['accuracy']\n",
    "val_accuracy = history.history['val_accuracy']\n",
    "loss = history.history['loss']\n",
    "val_loss = history.history['val_loss']\n",
    "epochs = range(len(accuracy))\n",
    "\n",
    "plt.plot(epochs, accuracy, 'bo', label='Training accuracy')\n",
    "plt.plot(epochs, val_accuracy, 'b', label='Validation accuracy')\n",
    "plt.title('Training and validation accuracy')\n",
    "plt.legend()\n",
    "plt.figure()\n",
    "plt.plot(epochs, loss, 'bo', label='Training loss')\n",
    "plt.plot(epochs, val_loss, 'b', label='Validation loss')\n",
    "plt.title('Training and validation loss')\n",
    "plt.legend()\n",
    "plt.show()"
   ]
  },
  {
   "cell_type": "code",
   "execution_count": null,
   "metadata": {},
   "outputs": [],
   "source": [
    "#Predizendo a  classe a partir da base de teste_X\n",
    "predicted_classes = tf_model.predict(test_X)\n",
    "predicted_classes = np.argmax(np.round(predicted_classes),axis=1)\n",
    "predicted_classes.shape, test_Y.shape"
   ]
  },
  {
   "cell_type": "code",
   "execution_count": null,
   "metadata": {
    "scrolled": true
   },
   "outputs": [],
   "source": [
    "correct = np.where(predicted_classes==test_Y)[0]"
   ]
  },
  {
   "cell_type": "code",
   "execution_count": null,
   "metadata": {},
   "outputs": [],
   "source": [
    "#Mostrando a quantidade de acertos e alguns exemplos\n",
    "correct = np.where(predicted_classes==test_Y)[0]\n",
    "print (\"Found %d correct labels\" % len(correct))\n",
    "for i, correct in enumerate(correct[:9]):\n",
    "    plt.subplot(3,3,i+1)\n",
    "    plt.imshow(test_X[correct].reshape(128,128,3), cmap='gray', interpolation='none')\n",
    "    plt.title(\"Predicted {}, Class {}\".format(predicted_classes[correct], test_Y[correct]))\n",
    "    plt.tight_layout()"
   ]
  },
  {
   "cell_type": "code",
   "execution_count": null,
   "metadata": {},
   "outputs": [],
   "source": [
    "#Mostrando a quantidade de erros e alguns exemplos\n",
    "incorrect = np.where(predicted_classes!=test_Y)[0]\n",
    "print (\"Found %d incorrect labels\" % len(incorrect))\n",
    "for i, incorrect in enumerate(incorrect[:9]):\n",
    "    plt.subplot(3,3,i+1)\n",
    "    plt.imshow(test_X[incorrect].reshape(128,128,3), cmap='gray', interpolation='none')\n",
    "    plt.title(\"Predicted {}, Class {}\".format(predicted_classes[incorrect], test_Y[incorrect]))\n",
    "    plt.tight_layout()"
   ]
  },
  {
   "cell_type": "code",
   "execution_count": null,
   "metadata": {},
   "outputs": [],
   "source": [
    "#Precisão de classificação\n",
    "from sklearn.metrics import classification_report\n",
    "target_names = [\"Class {}\".format(i) for i in range(num_classes)]\n",
    "print(classification_report(test_Y, predicted_classes, target_names=target_names))"
   ]
  },
  {
   "cell_type": "code",
   "execution_count": null,
   "metadata": {},
   "outputs": [],
   "source": []
  },
  {
   "cell_type": "code",
   "execution_count": null,
   "metadata": {},
   "outputs": [],
   "source": []
  },
  {
   "cell_type": "code",
   "execution_count": null,
   "metadata": {},
   "outputs": [],
   "source": []
  },
  {
   "cell_type": "markdown",
   "metadata": {},
   "source": [
    "# REDE CRIADA PARA CLASSIFICAR"
   ]
  },
  {
   "cell_type": "code",
   "execution_count": null,
   "metadata": {},
   "outputs": [],
   "source": [
    "fashion_model = Sequential()\n",
    "\n",
    "fashion_model.add(Conv2D(16, kernel_size=(3, 3),activation='relu',padding='same',input_shape=(128,128,3)))\n",
    "fashion_model.add(LeakyReLU(alpha=0.1))\n",
    "fashion_model.add(MaxPooling2D((2, 2),padding='same'))\n",
    "fashion_model.add(Dropout(0.2))\n",
    "\n",
    "fashion_model.add(Conv2D(32, kernel_size=(3, 3),activation='relu',padding='same'))\n",
    "fashion_model.add(LeakyReLU(alpha=0.1))\n",
    "fashion_model.add(MaxPooling2D((2, 2),padding='same'))\n",
    "fashion_model.add(Dropout(0.25))\n",
    "\n",
    "fashion_model.add(Conv2D(32, (3, 3), activation='relu',padding='same'))\n",
    "fashion_model.add(LeakyReLU(alpha=0.01))\n",
    "fashion_model.add(MaxPooling2D(pool_size=(2, 2),padding='same'))\n",
    "fashion_model.add(Dropout(0.25))\n",
    "\n",
    "fashion_model.add(Conv2D(64, (3, 3), activation='relu',padding='same'))\n",
    "fashion_model.add(LeakyReLU(alpha=0.01))\n",
    "fashion_model.add(MaxPooling2D(pool_size=(2, 2),padding='same'))\n",
    "fashion_model.add(Dropout(0.25))\n",
    "\n",
    "fashion_model.add(Conv2D(64, (3, 3), activation='relu',padding='same'))\n",
    "fashion_model.add(LeakyReLU(alpha=0.01))                  \n",
    "fashion_model.add(MaxPooling2D(pool_size=(2, 2),padding='same'))\n",
    "fashion_model.add(Dropout(0.25))\n",
    "\n",
    "fashion_model.add(Flatten())\n",
    "fashion_model.add(Dense(512, activation='sigmoid'))\n",
    "fashion_model.add(LeakyReLU(alpha=0.01))           \n",
    "fashion_model.add(Dropout(0.5))\n",
    "fashion_model.add(Dense(num_classes, activation='softmax'))\n",
    "sgd = SGD(lr = 0.1, decay=1e-6, momentum=0.9, nesterov=True)"
   ]
  },
  {
   "cell_type": "code",
   "execution_count": null,
   "metadata": {},
   "outputs": [],
   "source": [
    "fashion_model.summary()"
   ]
  },
  {
   "cell_type": "code",
   "execution_count": null,
   "metadata": {},
   "outputs": [],
   "source": [
    "#Compilando a rede neural criada usando como metrica a accurancy\n",
    "fashion_model.compile(loss=keras.losses.categorical_crossentropy, optimizer=keras.optimizers.Adam(), metrics=['accuracy'])"
   ]
  },
  {
   "cell_type": "code",
   "execution_count": null,
   "metadata": {},
   "outputs": [],
   "source": [
    "import time"
   ]
  },
  {
   "cell_type": "code",
   "execution_count": null,
   "metadata": {
    "scrolled": true
   },
   "outputs": [],
   "source": [
    "ini = time.time()\n",
    "#Treinando a rede\n",
    "fashion_train_dropout = fashion_model.fit(train_X, train_label, batch_size=64,epochs=100,verbose=1,validation_data=(valid_X, valid_label))\n",
    "fim = time.time()\n",
    "print(f'tempo: {ini-fim}')"
   ]
  },
  {
   "cell_type": "code",
   "execution_count": null,
   "metadata": {},
   "outputs": [],
   "source": [
    "import os\n",
    "beep = lambda x: os.system(\"echo -n '\\a';sleep 0.2;\" * x)\n",
    "beep(10)"
   ]
  },
  {
   "cell_type": "code",
   "execution_count": null,
   "metadata": {
    "scrolled": true
   },
   "outputs": [],
   "source": [
    "#Salvando treinamento\n",
    "fashion_model.save(\"semTransfer.h5py\")"
   ]
  },
  {
   "cell_type": "code",
   "execution_count": null,
   "metadata": {},
   "outputs": [],
   "source": [
    "#Validação da parte de teste\n",
    "test_eval = fashion_model.evaluate(test_X, test_Y_one_hot, verbose=1)"
   ]
  },
  {
   "cell_type": "markdown",
   "metadata": {},
   "source": [
    "### carregar modelo treinado"
   ]
  },
  {
   "cell_type": "code",
   "execution_count": null,
   "metadata": {},
   "outputs": [],
   "source": [
    "#carregar modelo salvo\n",
    "from keras.models import load_model\n",
    "fashion_model = load_model('semTransfer.h5py')"
   ]
  },
  {
   "cell_type": "code",
   "execution_count": null,
   "metadata": {},
   "outputs": [],
   "source": [
    "#Plotando graficos referentes a treinamento e validação acurácia e loss\n",
    "accuracy = fashion_train_dropout.history['accuracy']\n",
    "val_accuracy = fashion_train_dropout.history['val_accuracy']\n",
    "loss = fashion_train_dropout.history['loss']\n",
    "val_loss = fashion_train_dropout.history['val_loss']\n",
    "epochs = range(len(accuracy))\n",
    "\n",
    "plt.plot(epochs, accuracy, 'bo', label='Training accuracy')\n",
    "plt.plot(epochs, val_accuracy, 'b', label='Validation accuracy')\n",
    "plt.title('Training and validation accuracy')\n",
    "plt.legend()\n",
    "plt.figure()\n",
    "plt.plot(epochs, loss, 'bo', label='Training loss')\n",
    "plt.plot(epochs, val_loss, 'b', label='Validation loss')\n",
    "plt.title('Training and validation loss')\n",
    "plt.legend()\n",
    "plt.show()"
   ]
  },
  {
   "cell_type": "code",
   "execution_count": null,
   "metadata": {},
   "outputs": [],
   "source": [
    "#Predizendo a  classe a partir da base de teste_X\n",
    "predicted_classes = fashion_model.predict(test_X)\n",
    "predicted_classes = np.argmax(np.round(predicted_classes),axis=1)\n",
    "predicted_classes.shape, test_Y.shape"
   ]
  },
  {
   "cell_type": "code",
   "execution_count": null,
   "metadata": {},
   "outputs": [],
   "source": [
    "#Mostrando a quantidade de acertos e alguns exemplos\n",
    "correct = np.where(predicted_classes==test_Y)[0]\n",
    "print (\"Encontrado %d amostras corretas\" % len(correct))\n",
    "for i, correct in enumerate(correct[0:9]):\n",
    "    plt.subplot(3,3,i+1)\n",
    "    img = cv2.cvtColor(test_X[correct].reshape(128,128,3),cv2.COLOR_BGR2RGB)\n",
    "    plt.imshow(img)\n",
    "    #plt.imshow(test_X[correct].reshape(128,128,3), cmap='gray', interpolation='none')\n",
    "    plt.title(\"Predito {}, Classe {}\".format(predicted_classes[correct], test_Y[correct]))\n",
    "    plt.tight_layout()"
   ]
  },
  {
   "cell_type": "code",
   "execution_count": null,
   "metadata": {},
   "outputs": [],
   "source": [
    "#Mostrando a quantidade de erros e alguns exemplos\n",
    "incorrect = np.where(predicted_classes!=test_Y)[0]\n",
    "print (\"Encontrado %d amostras incorretas\" % len(incorrect))\n",
    "for i, incorrect in enumerate(incorrect[:9]):\n",
    "    plt.subplot(3,3,i+1)\n",
    "    img = cv2.cvtColor(test_X[incorrect].reshape(128,128,3),cv2.COLOR_BGR2RGB)\n",
    "    plt.imshow(img)\n",
    "    #plt.imshow(test_X[incorrect].reshape(128,128,3), cmap='gray', interpolation='none')\n",
    "    plt.title(\"Pred {} : Cl {}\".format(predicted_classes[incorrect], test_Y[incorrect]))\n",
    "    plt.tight_layout()"
   ]
  },
  {
   "cell_type": "code",
   "execution_count": null,
   "metadata": {},
   "outputs": [],
   "source": [
    "#Precisão de classificação\n",
    "from sklearn.metrics import classification_report\n",
    "target_names = [\"Class {}\".format(i) for i in range(num_classes)]\n",
    "print(classification_report(test_Y, predicted_classes, target_names=target_names))"
   ]
  },
  {
   "cell_type": "code",
   "execution_count": null,
   "metadata": {},
   "outputs": [],
   "source": []
  }
 ],
 "metadata": {
  "kernelspec": {
   "display_name": "Python 3",
   "language": "python",
   "name": "python3"
  },
  "language_info": {
   "codemirror_mode": {
    "name": "ipython",
    "version": 3
   },
   "file_extension": ".py",
   "mimetype": "text/x-python",
   "name": "python",
   "nbconvert_exporter": "python",
   "pygments_lexer": "ipython3",
   "version": "3.6.9"
  }
 },
 "nbformat": 4,
 "nbformat_minor": 4
}
