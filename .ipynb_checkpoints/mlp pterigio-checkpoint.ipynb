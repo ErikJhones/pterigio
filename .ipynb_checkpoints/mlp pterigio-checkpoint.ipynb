{
 "cells": [
  {
   "cell_type": "code",
   "execution_count": 1,
   "metadata": {},
   "outputs": [],
   "source": [
    "import os\n",
    "import cv2\n",
    "import numpy as np\n",
    "import warnings\n",
    "\n",
    "import matplotlib.pyplot as plt\n",
    "from sklearn.datasets import fetch_openml\n",
    "from sklearn.exceptions import ConvergenceWarning\n",
    "from sklearn.neural_network import MLPClassifier\n",
    "from sklearn.model_selection import train_test_split #Separar dados de treino e teste\n",
    "from sklearn.utils import shuffle #Embaralhar dados"
   ]
  },
  {
   "cell_type": "code",
   "execution_count": 2,
   "metadata": {},
   "outputs": [],
   "source": [
    "path = os.getcwd()+'/Aug/'\n",
    "X = []\n",
    "y = []\n",
    "        \n",
    "for caminho, d, file in os.walk(path):\n",
    "    for filename in file:\n",
    "        \n",
    "        img = cv2.imread(os.path.join(caminho,filename))\n",
    "        \n",
    "        #gray = cv2.cvtColor(img, cv2.COLOR_BGR2GRAY) #Deixa a imagem com tons de cinza\n",
    "        #equalized_image = cv2.equalizeHist(gray) #Aumentar o contraste da imagem\n",
    "        #img2 = np.array(cv2.resize(gray, (224,224), interpolation = cv2.INTER_AREA))\n",
    "        X.append(img.reshape(-1))\n",
    "        \n",
    "        if caminho == os.getcwd()+'/Aug/NewG0':\n",
    "            y.append(0)\n",
    "        elif caminho == os.getcwd()+'/Aug/NewG1':\n",
    "            y.append(1)\n",
    "        elif caminho == os.getcwd()+'/Aug/NewG2':\n",
    "            y.append(2)\n",
    "        elif caminho == os.getcwd()+'/Aug/NewG3':\n",
    "            y.append(3)\n",
    "        elif caminho == os.getcwd()+'/Aug/NewG4':\n",
    "            y.append(4)"
   ]
  },
  {
   "cell_type": "code",
   "execution_count": 3,
   "metadata": {},
   "outputs": [
    {
     "data": {
      "text/plain": [
       "1132.2"
      ]
     },
     "execution_count": 3,
     "metadata": {},
     "output_type": "execute_result"
    }
   ],
   "source": [
    "5661*0.2"
   ]
  },
  {
   "cell_type": "code",
   "execution_count": 4,
   "metadata": {},
   "outputs": [
    {
     "name": "stdout",
     "output_type": "stream",
     "text": [
      "Automatically created module for IPython interactive environment\n",
      "Iteration 1, loss = 3.27078924\n",
      "Iteration 2, loss = 1.37423036\n",
      "Iteration 3, loss = 1.37307732\n",
      "Iteration 4, loss = 1.37329174\n",
      "Iteration 5, loss = 1.37260957\n",
      "Iteration 6, loss = 1.37826114\n",
      "Iteration 7, loss = 1.36935311\n",
      "Iteration 8, loss = 1.36820851\n",
      "Iteration 9, loss = 1.36764401\n",
      "Iteration 10, loss = 1.36861346\n",
      "Iteration 11, loss = 1.38208133\n",
      "Iteration 12, loss = 1.36815695\n",
      "Iteration 13, loss = 1.36124201\n",
      "Iteration 14, loss = 1.36315119\n",
      "Iteration 15, loss = 1.35969980\n",
      "Iteration 16, loss = 1.36053386\n",
      "Iteration 17, loss = 1.35943455\n",
      "Iteration 18, loss = 1.35820958\n",
      "Iteration 19, loss = 1.35751629\n",
      "Iteration 20, loss = 1.35666516\n",
      "Iteration 21, loss = 1.35636692\n",
      "Iteration 22, loss = 1.35545528\n",
      "Iteration 23, loss = 1.35526961\n",
      "Iteration 24, loss = 1.35505110\n",
      "Iteration 25, loss = 1.35431000\n",
      "Iteration 26, loss = 1.35255095\n",
      "Iteration 27, loss = 1.35357487\n",
      "Iteration 28, loss = 1.35263578\n",
      "Iteration 29, loss = 1.35270781\n",
      "Iteration 30, loss = 1.35287497\n",
      "Iteration 31, loss = 1.35112090\n",
      "Iteration 32, loss = 1.35128687\n",
      "Iteration 33, loss = 1.35093171\n",
      "Iteration 34, loss = 1.35154781\n",
      "Iteration 35, loss = 1.34919744\n",
      "Iteration 36, loss = 1.35025872\n",
      "Iteration 37, loss = 1.35128287\n",
      "Iteration 38, loss = 1.34912075\n",
      "Iteration 39, loss = 1.34808182\n",
      "Iteration 40, loss = 1.35063190\n",
      "Iteration 41, loss = 1.34833631\n",
      "Iteration 42, loss = 1.34689315\n",
      "Iteration 43, loss = 1.34809770\n",
      "Iteration 44, loss = 1.34863375\n",
      "Iteration 45, loss = 1.34734553\n",
      "Iteration 46, loss = 1.34750671\n",
      "Iteration 47, loss = 1.34790499\n",
      "Iteration 48, loss = 1.34454186\n",
      "Iteration 49, loss = 1.34512587\n",
      "Iteration 50, loss = 1.34421445\n",
      "Iteration 51, loss = 1.34451299\n",
      "Iteration 52, loss = 1.34732929\n",
      "Iteration 53, loss = 1.34454368\n",
      "Iteration 54, loss = 1.34404806\n",
      "Iteration 55, loss = 1.34390977\n",
      "Iteration 56, loss = 1.34237131\n",
      "Iteration 57, loss = 1.34396904\n",
      "Iteration 58, loss = 1.34314357\n",
      "Iteration 59, loss = 1.34346337\n",
      "Iteration 60, loss = 1.34289297\n",
      "Training set score: 0.492712\n",
      "Test set score: 0.504854\n"
     ]
    }
   ],
   "source": [
    "\n",
    "\n",
    "print(__doc__)\n",
    "\n",
    "# Load data from https://www.openml.org/d/554\n",
    "#X, y = fetch_openml('mnist_784', version=1, return_X_y=True)\n",
    "X = np.array(X) / 255.\n",
    "\n",
    "X, y= shuffle(X, y) #embaralha os dados\n",
    "#separa os dados em treino e teste com porcentagen de 80% para treino\n",
    "X_train, X_test, y_train, y_test = train_test_split(X, y, train_size=0.8, random_state=42) \n",
    "\n",
    "# rescale the data, use the traditional train/test split\n",
    "#X_train, X_test = X[:60000], X[60000:]\n",
    "#y_train, y_test = y[:60000], y[60000:]\n",
    "\n",
    "mlp = MLPClassifier(hidden_layer_sizes=(16,32,32,64), max_iter=60, alpha=1e-4, activation='relu',\n",
    "                    solver='adam', verbose=10, random_state=1,\n",
    "                    learning_rate_init=.1)\n",
    "\n",
    "# this example won't converge because of CI's time constraints, so we catch the\n",
    "# warning and are ignore it here\n",
    "with warnings.catch_warnings():\n",
    "    warnings.filterwarnings(\"ignore\", category=ConvergenceWarning,\n",
    "                            module=\"sklearn\")\n",
    "    mlp.fit(X_train, y_train)\n",
    "\n",
    "print(\"Training set score: %f\" % mlp.score(X_train, y_train))\n",
    "print(\"Test set score: %f\" % mlp.score(X_test, y_test))"
   ]
  },
  {
   "cell_type": "code",
   "execution_count": null,
   "metadata": {},
   "outputs": [],
   "source": [
    "import numpy as np"
   ]
  },
  {
   "cell_type": "code",
   "execution_count": null,
   "metadata": {},
   "outputs": [],
   "source": [
    "imgplot = plt.imshow(np.array(X[0]).reshape(28, 28))"
   ]
  },
  {
   "cell_type": "code",
   "execution_count": null,
   "metadata": {},
   "outputs": [],
   "source": [
    "X[0]"
   ]
  },
  {
   "cell_type": "code",
   "execution_count": null,
   "metadata": {},
   "outputs": [],
   "source": []
  }
 ],
 "metadata": {
  "kernelspec": {
   "display_name": "Python 3",
   "language": "python",
   "name": "python3"
  },
  "language_info": {
   "codemirror_mode": {
    "name": "ipython",
    "version": 3
   },
   "file_extension": ".py",
   "mimetype": "text/x-python",
   "name": "python",
   "nbconvert_exporter": "python",
   "pygments_lexer": "ipython3",
   "version": "3.6.9"
  }
 },
 "nbformat": 4,
 "nbformat_minor": 4
}
