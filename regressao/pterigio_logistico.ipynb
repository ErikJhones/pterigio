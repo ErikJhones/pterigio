{
 "cells": [
  {
   "cell_type": "code",
   "execution_count": null,
   "metadata": {},
   "outputs": [],
   "source": [
    "\n",
    "# Bibliotecas para aumentar dataset #####################\n",
    "from tensorflow.keras.preprocessing.image import ImageDataGenerator\n",
    "from tensorflow.keras.preprocessing.image import img_to_array\n",
    "from tensorflow.keras.preprocessing.image import load_img\n",
    "from keras.applications.vgg16 import VGG16 #Biblioteca cnn-vgg16\n",
    "import numpy as np\n",
    "\n",
    "#####################  Bibliotecas para separar dados #####################\n",
    "import cv2 #Trabalhar com imagens\n",
    "from sklearn.model_selection import train_test_split #Separar dados de treino e teste\n",
    "from sklearn.utils import shuffle #Embaralhar dados\n",
    "import os #sistema operacional\n"
   ]
  },
  {
   "cell_type": "code",
   "execution_count": null,
   "metadata": {},
   "outputs": [],
   "source": [
    "\n",
    "path = os.getcwd()+'/Aug/'\n",
    "data_set = []\n",
    "saidas = []\n",
    "        \n",
    "for caminho, d, file in os.walk(path):\n",
    "    for filename in file:\n",
    "        \n",
    "        img = cv2.imread(os.path.join(caminho,filename))\n",
    "        \n",
    "        #gray = cv2.cvtColor(img, cv2.COLOR_BGR2GRAY) #Deixa a imagem com tons de cinza\n",
    "        #equalized_image = cv2.equalizeHist(gray) #Aumentar o contraste da imagem\n",
    "        #img2 = np.array(cv2.resize(gray, (224,224), interpolation = cv2.INTER_AREA))\n",
    "        data_set.append(img)\n",
    "        \n",
    "        if caminho == os.getcwd()+'/Aug/NewG0':\n",
    "            saidas.append(0)\n",
    "        elif caminho == os.getcwd()+'/Aug/NewG1':\n",
    "            saidas.append(1)\n",
    "        elif caminho == os.getcwd()+'/Aug/NewG2':\n",
    "            saidas.append(2)\n",
    "        elif caminho == os.getcwd()+'/Aug/NewG3':\n",
    "            saidas.append(3)\n",
    "        elif caminho == os.getcwd()+'/Aug/NewG4':\n",
    "            saidas.append(4)"
   ]
  },
  {
   "cell_type": "code",
   "execution_count": null,
   "metadata": {},
   "outputs": [],
   "source": [
    "\n",
    "X, Y = shuffle(data_set, saidas) #embaralha os dados\n",
    "\n",
    "train_X = []\n",
    "train_Y = []\n",
    "\n",
    "test_X = []\n",
    "test_Y = []\n",
    "\n",
    "train_X, test_X, train_Y, test_Y = train_test_split(X, Y, train_size=0.8, random_state=42) #separa os dados em treino e teste com porcentagen de 80% para treino\n",
    "\n",
    "#Deixando no mesmo tipo do array do data_set\n",
    "train_Y = np.array(train_Y).astype('uint8')\n",
    "test_Y = np.array(test_Y).astype('uint8')\n",
    "\n",
    "train_X = np.array(train_X)\n",
    "test_X = np.array(test_X)"
   ]
  },
  {
   "cell_type": "code",
   "execution_count": null,
   "metadata": {},
   "outputs": [],
   "source": [
    "\n",
    "from keras.utils import to_categorical\n",
    "import matplotlib.pyplot as plt\n",
    "%matplotlib inline\n",
    "\n",
    "print('Tamanho e quantidade da base de dados de treino:', train_X.shape, train_Y.shape)\n",
    "\n",
    "print('Tamanho e quantidade da base de dados de teste:', test_X.shape, test_Y.shape)"
   ]
  },
  {
   "cell_type": "code",
   "execution_count": null,
   "metadata": {},
   "outputs": [],
   "source": [
    "\n",
    "# Encontra o numero de classes\n",
    "classes = np.unique(train_Y) #Pega o valores sem repetição\n",
    "nClasses = len(classes)\n",
    "print('Numero total de classes:', nClasses)\n",
    "print('Saida das classes:', classes)"
   ]
  },
  {
   "cell_type": "code",
   "execution_count": null,
   "metadata": {},
   "outputs": [],
   "source": [
    "plt.figure(figsize=[5,5])\n",
    "\n",
    "#Mostra a primeira imagem dos dados de treino\n",
    "\n",
    "plt.subplot(121)\n",
    "plt.imshow(train_X[0,:,:], cmap='gray')\n",
    "plt.title(\"Classe : {}\".format(train_Y[0]))\n",
    "\n",
    "#Mostra a primeira imagem dos dados de teste\n",
    "plt.subplot(122)\n",
    "plt.imshow(test_X[5,:,:], cmap='gray')\n",
    "plt.title(\"Classe : {}\".format(test_Y[5]))"
   ]
  },
  {
   "cell_type": "code",
   "execution_count": null,
   "metadata": {},
   "outputs": [],
   "source": [
    "\n",
    "# Deixar as imagens na mesma dimensão\n",
    "train_X = train_X.reshape(-1, 128, 128, 3)\n",
    "test_X = test_X.reshape(-1, 128, 128, 3)\n",
    "train_X.shape, test_X.shape"
   ]
  },
  {
   "cell_type": "code",
   "execution_count": null,
   "metadata": {},
   "outputs": [],
   "source": [
    "\n",
    "#Normalizando a imagens deixando os pixels entre 0 e 1\n",
    "train_X = train_X.astype('float32')\n",
    "test_X = test_X.astype('float32')\n",
    "train_X = train_X / 255.\n",
    "test_X = test_X / 255."
   ]
  },
  {
   "cell_type": "code",
   "execution_count": null,
   "metadata": {},
   "outputs": [],
   "source": []
  },
  {
   "cell_type": "code",
   "execution_count": null,
   "metadata": {},
   "outputs": [],
   "source": []
  },
  {
   "cell_type": "code",
   "execution_count": null,
   "metadata": {},
   "outputs": [],
   "source": []
  },
  {
   "cell_type": "code",
   "execution_count": null,
   "metadata": {},
   "outputs": [],
   "source": []
  },
  {
   "cell_type": "code",
   "execution_count": null,
   "metadata": {},
   "outputs": [],
   "source": [
    "x_train_im = mnist.load_images(x_train)\n",
    "x_train_im, x_test_im = x_train_im / 255.0, x_test / 255.0\n",
    "model = tf.keras.models.Sequential([tf.keras.layers.Flatten(),tf.keras.layers.Dense(10, activation=tf.nn.softmax)])\n",
    "model.compile(optimizer='sgd',loss='sparse_categorical_crossentropy',metrics=['accuracy'])\n",
    "model.fit(x_train_im, y_train, epochs=5)\n",
    "model.evaluate(x_test_im, nputil.argmax(y_test)) "
   ]
  }
 ],
 "metadata": {
  "kernelspec": {
   "display_name": "Python 3",
   "language": "python",
   "name": "python3"
  },
  "language_info": {
   "codemirror_mode": {
    "name": "ipython",
    "version": 3
   },
   "file_extension": ".py",
   "mimetype": "text/x-python",
   "name": "python",
   "nbconvert_exporter": "python",
   "pygments_lexer": "ipython3",
   "version": "3.6.9"
  }
 },
 "nbformat": 4,
 "nbformat_minor": 4
}
