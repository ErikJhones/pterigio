{
 "cells": [
  {
   "cell_type": "code",
   "execution_count": 1,
   "metadata": {},
   "outputs": [],
   "source": [
    "import os\n",
    "import cv2\n",
    "import numpy as np\n",
    "import warnings\n",
    "\n",
    "import matplotlib.pyplot as plt\n",
    "from sklearn.datasets import fetch_openml\n",
    "from sklearn.exceptions import ConvergenceWarning\n",
    "from sklearn.neural_network import MLPClassifier\n",
    "from sklearn.model_selection import train_test_split #Separar dados de treino e teste\n",
    "from sklearn.utils import shuffle #Embaralhar dados"
   ]
  },
  {
   "cell_type": "code",
   "execution_count": 6,
   "metadata": {},
   "outputs": [],
   "source": [
    "from sklearn.metrics import roc_auc_score, roc_curve,classification_report, accuracy_score, confusion_matrix, auc"
   ]
  },
  {
   "cell_type": "code",
   "execution_count": 2,
   "metadata": {},
   "outputs": [],
   "source": [
    "path = os.getcwd()+'/Aug/'\n",
    "data_set = []\n",
    "saidas = []\n",
    "        \n",
    "for caminho, d, file in os.walk(path):\n",
    "    for filename in file:\n",
    "        \n",
    "        img = cv2.imread(os.path.join(caminho,filename))\n",
    "        \n",
    "        img = cv2.cvtColor(img, cv2.COLOR_BGR2GRAY) #Deixa a imagem com tons de cinza\n",
    "        #equalized_image = cv2.equalizeHist(gray) #Aumentar o contraste da imagem\n",
    "        img = np.array(cv2.resize(img, (128,128), interpolation = cv2.INTER_AREA))\n",
    "        data_set.append(img.reshape(-1))\n",
    "        \n",
    "        if caminho == os.getcwd()+'/Aug/NewG0':\n",
    "            saidas.append(0)\n",
    "        elif caminho == os.getcwd()+'/Aug/NewG1':\n",
    "            saidas.append(1)\n",
    "        elif caminho == os.getcwd()+'/Aug/NewG2':\n",
    "            saidas.append(2)\n",
    "        elif caminho == os.getcwd()+'/Aug/NewG3':\n",
    "            saidas.append(3)\n",
    "        elif caminho == os.getcwd()+'/Aug/NewG4':\n",
    "            saidas.append(4)\n",
    "            \n"
   ]
  },
  {
   "cell_type": "code",
   "execution_count": 3,
   "metadata": {},
   "outputs": [],
   "source": [
    "X = np.array(data_set)\n",
    "y = np.array(saidas)"
   ]
  },
  {
   "cell_type": "code",
   "execution_count": 11,
   "metadata": {},
   "outputs": [
    {
     "name": "stdout",
     "output_type": "stream",
     "text": [
      "Automatically created module for IPython interactive environment\n",
      "Iteration 1, loss = 1.75144394\n",
      "Iteration 2, loss = 1.33397124\n",
      "Iteration 3, loss = 1.33167094\n",
      "Iteration 4, loss = 1.33311975\n",
      "Iteration 5, loss = 1.33283786\n",
      "Iteration 6, loss = 1.33182337\n",
      "Iteration 7, loss = 1.33279976\n",
      "Iteration 8, loss = 1.33144625\n",
      "Iteration 9, loss = 1.33189283\n",
      "Iteration 10, loss = 1.33418797\n",
      "Iteration 11, loss = 1.33200605\n",
      "Iteration 12, loss = 1.33321093\n",
      "Iteration 13, loss = 1.33243607\n",
      "Iteration 14, loss = 1.33138883\n",
      "Iteration 15, loss = 1.33288196\n",
      "Iteration 16, loss = 1.33137450\n",
      "Iteration 17, loss = 1.33338002\n",
      "Iteration 18, loss = 1.33260897\n",
      "Iteration 19, loss = 1.33215155\n",
      "Training loss did not improve more than tol=0.000100 for 10 consecutive epochs. Stopping.\n",
      "Training set score: 0.475971\n",
      "Test set score: 0.466161\n"
     ]
    }
   ],
   "source": [
    "print(__doc__)\n",
    "X = np.array(X) / 255.\n",
    "\n",
    "X, y= shuffle(X, y) #embaralha os dados\n",
    "#separa os dados em treino e teste com porcentagen de 80% para treino\n",
    "X_train, X_test, y_train, y_test = train_test_split(X, y, train_size=0.8, random_state=42) \n",
    "\n",
    "mlp = MLPClassifier(hidden_layer_sizes=(50,50,50,50,50,50,50), max_iter=60, alpha=1e-4, activation='relu',\n",
    "                    solver='adam', verbose=10, random_state=1,\n",
    "                    learning_rate_init=.1)\n",
    "\n",
    "with warnings.catch_warnings():\n",
    "    warnings.filterwarnings(\"ignore\", category=ConvergenceWarning,\n",
    "                            module=\"sklearn\")\n",
    "    mlp.fit(X_train, y_train)\n",
    "\n",
    "print(\"Training set score: %f\" % mlp.score(X_train, y_train))\n",
    "print(\"Test set score: %f\" % mlp.score(X_test, y_test))"
   ]
  },
  {
   "cell_type": "code",
   "execution_count": 8,
   "metadata": {},
   "outputs": [
    {
     "name": "stdout",
     "output_type": "stream",
     "text": [
      "              precision    recall  f1-score   support\n",
      "\n",
      "           0       0.00      0.00      0.00       154\n",
      "           1       0.00      0.00      0.00        93\n",
      "           2       0.00      0.00      0.00       243\n",
      "           3       0.47      1.00      0.64       876\n",
      "           4       0.00      0.00      0.00       481\n",
      "\n",
      "    accuracy                           0.47      1847\n",
      "   macro avg       0.09      0.20      0.13      1847\n",
      "weighted avg       0.22      0.47      0.31      1847\n",
      "\n"
     ]
    },
    {
     "name": "stderr",
     "output_type": "stream",
     "text": [
      "/home/erik/pterigio/lib/python3.6/site-packages/sklearn/metrics/_classification.py:1221: UndefinedMetricWarning: Precision and F-score are ill-defined and being set to 0.0 in labels with no predicted samples. Use `zero_division` parameter to control this behavior.\n",
      "  _warn_prf(average, modifier, msg_start, len(result))\n"
     ]
    }
   ],
   "source": [
    "print(classification_report(y_test, mlp.predict(X_test), labels=[0,1, 2, 3, 4]))"
   ]
  },
  {
   "cell_type": "code",
   "execution_count": null,
   "metadata": {},
   "outputs": [],
   "source": []
  }
 ],
 "metadata": {
  "kernelspec": {
   "display_name": "Python 3",
   "language": "python",
   "name": "python3"
  },
  "language_info": {
   "codemirror_mode": {
    "name": "ipython",
    "version": 3
   },
   "file_extension": ".py",
   "mimetype": "text/x-python",
   "name": "python",
   "nbconvert_exporter": "python",
   "pygments_lexer": "ipython3",
   "version": "3.6.9"
  }
 },
 "nbformat": 4,
 "nbformat_minor": 4
}
