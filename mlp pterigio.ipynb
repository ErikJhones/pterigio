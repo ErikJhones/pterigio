{
 "cells": [
  {
   "cell_type": "code",
   "execution_count": null,
   "metadata": {},
   "outputs": [],
   "source": [
    "import os\n",
    "import cv2\n",
    "import numpy as np\n",
    "import warnings\n",
    "\n",
    "import matplotlib.pyplot as plt\n",
    "from sklearn.datasets import fetch_openml\n",
    "from sklearn.exceptions import ConvergenceWarning\n",
    "from sklearn.neural_network import MLPClassifier\n",
    "from sklearn.model_selection import train_test_split #Separar dados de treino e teste\n",
    "from sklearn.utils import shuffle #Embaralhar dados"
   ]
  },
  {
   "cell_type": "code",
   "execution_count": null,
   "metadata": {},
   "outputs": [],
   "source": [
    "path = os.getcwd()+'/Aug/'\n",
    "data_set = []\n",
    "saidas = []\n",
    "        \n",
    "for caminho, d, file in os.walk(path):\n",
    "    for filename in file:\n",
    "        \n",
    "        img = cv2.imread(os.path.join(caminho,filename))\n",
    "        \n",
    "        img = cv2.cvtColor(img, cv2.COLOR_BGR2GRAY) #Deixa a imagem com tons de cinza\n",
    "        #equalized_image = cv2.equalizeHist(gray) #Aumentar o contraste da imagem\n",
    "        img = np.array(cv2.resize(img, (128,128), interpolation = cv2.INTER_AREA))\n",
    "        data_set.append(img.reshape(-1))\n",
    "        \n",
    "        if caminho == os.getcwd()+'/Aug/NewG0':\n",
    "            saidas.append(0)\n",
    "        elif caminho == os.getcwd()+'/Aug/NewG1':\n",
    "            saidas.append(1)\n",
    "        elif caminho == os.getcwd()+'/Aug/NewG2':\n",
    "            saidas.append(2)\n",
    "        elif caminho == os.getcwd()+'/Aug/NewG3':\n",
    "            saidas.append(3)\n",
    "        elif caminho == os.getcwd()+'/Aug/NewG4':\n",
    "            saidas.append(4)\n",
    "            \n"
   ]
  },
  {
   "cell_type": "code",
   "execution_count": null,
   "metadata": {},
   "outputs": [],
   "source": [
    "X = np.array(data_set)\n",
    "y = np.array(saidas)"
   ]
  },
  {
   "cell_type": "code",
   "execution_count": null,
   "metadata": {},
   "outputs": [],
   "source": [
    "print(__doc__)\n",
    "X = np.array(X) / 255.\n",
    "\n",
    "X, y= shuffle(X, y) #embaralha os dados\n",
    "#separa os dados em treino e teste com porcentagen de 80% para treino\n",
    "X_train, X_test, y_train, y_test = train_test_split(X, y, train_size=0.8, random_state=42) \n",
    "\n",
    "mlp = MLPClassifier(hidden_layer_sizes=(16,32,32,64), max_iter=60, alpha=1e-4, activation='relu',\n",
    "                    solver='adam', verbose=10, random_state=1,\n",
    "                    learning_rate_init=.1)\n",
    "\n",
    "with warnings.catch_warnings():\n",
    "    warnings.filterwarnings(\"ignore\", category=ConvergenceWarning,\n",
    "                            module=\"sklearn\")\n",
    "    mlp.fit(X_train, y_train)\n",
    "\n",
    "print(\"Training set score: %f\" % mlp.score(X_train, y_train))\n",
    "print(\"Test set score: %f\" % mlp.score(X_test, y_test))"
   ]
  }
 ],
 "metadata": {
  "kernelspec": {
   "display_name": "Python 3",
   "language": "python",
   "name": "python3"
  },
  "language_info": {
   "codemirror_mode": {
    "name": "ipython",
    "version": 3
   },
   "file_extension": ".py",
   "mimetype": "text/x-python",
   "name": "python",
   "nbconvert_exporter": "python",
   "pygments_lexer": "ipython3",
   "version": "3.6.9"
  }
 },
 "nbformat": 4,
 "nbformat_minor": 4
}
